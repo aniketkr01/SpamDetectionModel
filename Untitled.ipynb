{
 "cells": [
  {
   "cell_type": "code",
   "execution_count": null,
   "id": "7207851d",
   "metadata": {},
   "outputs": [],
   "source": [
    "import string\n",
    "import numpy as np\n",
    "import pandas as pd\n",
    "from sklearn.model_selection import train_test_split\n",
    "from sklearn.metrics import classification_report\n",
    "from nltk.corpus import stopwords\n",
    "from sklearn.feature_extraction.text import CountVectorizer, TfidfTransformer\n",
    "import matplotlib.pyplot as plt\n",
    "import seaborn as sns"
   ]
  },
  {
   "cell_type": "code",
   "execution_count": null,
   "id": "21c7c26a",
   "metadata": {},
   "outputs": [],
   "source": [
    "from tensorflow.keras.models import Sequential\n",
    "from tensorflow.keras.layers import Dense\n",
    "from tensorflow.keras.callbacks import EarlyStopping"
   ]
  },
  {
   "cell_type": "code",
   "execution_count": null,
   "id": "7726a7ac",
   "metadata": {},
   "outputs": [],
   "source": [
    "%matplotlib inline"
   ]
  },
  {
   "cell_type": "code",
   "execution_count": null,
   "id": "3b24fb22",
   "metadata": {},
   "outputs": [],
   "source": [
    "#Reading Tab Seperated File\n",
    "messages = pd.read_csv(\"smsspamcollection/SMSSpamCollection\",sep=\"\\t\",names=[\"type\",\"message\"])"
   ]
  },
  {
   "cell_type": "code",
   "execution_count": null,
   "id": "2d675cb5",
   "metadata": {},
   "outputs": [],
   "source": [
    "messages.head()"
   ]
  },
  {
   "cell_type": "code",
   "execution_count": null,
   "id": "1a7483df",
   "metadata": {},
   "outputs": [],
   "source": [
    "#Adding Length Column\n",
    "messages[\"length\"] = messages[\"message\"].apply(lambda st: len(st))"
   ]
  },
  {
   "cell_type": "code",
   "execution_count": null,
   "id": "a1b1ee39",
   "metadata": {},
   "outputs": [],
   "source": [
    "messages.head()"
   ]
  },
  {
   "cell_type": "code",
   "execution_count": null,
   "id": "60b1397e",
   "metadata": {},
   "outputs": [],
   "source": [
    "#Explore Data\n",
    "messages.hist(column=\"length\",by=\"type\",bins=80,figsize=(12,4))\n",
    "#It look like most of the words is in between 0-100 is ham\n",
    "#Words count in between 120-180 is spam"
   ]
  },
  {
   "cell_type": "code",
   "execution_count": null,
   "id": "6bb496c4",
   "metadata": {},
   "outputs": [],
   "source": [
    "stopwords.words(\"english\")[:5]"
   ]
  },
  {
   "cell_type": "code",
   "execution_count": null,
   "id": "9d584dca",
   "metadata": {},
   "outputs": [],
   "source": [
    "def text_processing(msg):\n",
    "    \"\"\"\n",
    "        parameter: string\n",
    "        return: processed string list\n",
    "    \"\"\"\n",
    "    #remove all puctuationns\n",
    "    msg = [char for char in msg if char not in string.punctuation]\n",
    "    \n",
    "    #join all characters to form string\n",
    "    msg = \"\".join(msg)\n",
    "    \n",
    "    #remove all ths stop words and return processed texts\n",
    "    return [word for word in msg.split(\" \") if word not in stopwords.words(\"english\")]\n",
    "   "
   ]
  },
  {
   "cell_type": "code",
   "execution_count": null,
   "id": "c72c2cd4",
   "metadata": {},
   "outputs": [],
   "source": [
    "#lets create bag of words as sparse matrix\n",
    "transformer = CountVectorizer(analyzer=text_processing).fit(messages[\"message\"])"
   ]
  },
  {
   "cell_type": "code",
   "execution_count": null,
   "id": "420cb449",
   "metadata": {},
   "outputs": [],
   "source": [
    "msg_bow = transformer.transform(messages[\"message\"])"
   ]
  },
  {
   "cell_type": "code",
   "execution_count": null,
   "id": "f9a7d54f",
   "metadata": {},
   "outputs": [],
   "source": [
    "tf = TfidfTransformer().fit(msg_bow)"
   ]
  },
  {
   "cell_type": "code",
   "execution_count": null,
   "id": "72fb23f1",
   "metadata": {},
   "outputs": [],
   "source": [
    "#Lets Transform it using TfidfTransformer\n",
    "msg_bow = tf.transform(msg_bow)"
   ]
  },
  {
   "cell_type": "code",
   "execution_count": null,
   "id": "ecc94246",
   "metadata": {},
   "outputs": [],
   "source": [
    "msg_bow.todense()"
   ]
  },
  {
   "cell_type": "code",
   "execution_count": null,
   "id": "bf8f4a48",
   "metadata": {},
   "outputs": [],
   "source": [
    "#Lets split data\n",
    "x_train,x_test,y_train,y_test = train_test_split(msg_bow,messages[\"type\"])"
   ]
  },
  {
   "cell_type": "code",
   "execution_count": null,
   "id": "dfc323f1",
   "metadata": {},
   "outputs": [],
   "source": [
    "#Lets create Neural Nets\n",
    "model = Sequential()"
   ]
  },
  {
   "cell_type": "code",
   "execution_count": null,
   "id": "b43f2638",
   "metadata": {},
   "outputs": [],
   "source": [
    "#Adding Neurons \n",
    "for  i in range(8):\n",
    "    model.add(Dense(units=8,activation=\"sigmoid\"))"
   ]
  },
  {
   "cell_type": "code",
   "execution_count": null,
   "id": "4a52e171",
   "metadata": {},
   "outputs": [],
   "source": [
    "#Adding last neuron\n",
    "model.add(Dense(units=1,activation=\"sigmoid\"))"
   ]
  },
  {
   "cell_type": "code",
   "execution_count": null,
   "id": "e108e55f",
   "metadata": {},
   "outputs": [],
   "source": [
    "#compiling model\n",
    "model.compile(loss=\"mse\",optimizer=\"adam\")"
   ]
  },
  {
   "cell_type": "code",
   "execution_count": null,
   "id": "5d79d4a7",
   "metadata": {},
   "outputs": [],
   "source": [
    "#Converting sparse matrix to numpy arrays for further processing\n",
    "x_train=x_train.toarray()\n",
    "x_test=x_test.toarray()"
   ]
  },
  {
   "cell_type": "code",
   "execution_count": null,
   "id": "f7164f73",
   "metadata": {},
   "outputs": [],
   "source": [
    "#converting type to dummy variable\n",
    "y_train = pd.get_dummies(y_train,drop_first=True)\n",
    "y_test = pd.get_dummies(y_test,drop_first=True)"
   ]
  },
  {
   "cell_type": "code",
   "execution_count": null,
   "id": "769b46d6",
   "metadata": {
    "scrolled": true
   },
   "outputs": [],
   "source": [
    "#train model\n",
    "model.fit(x_train,y_train,validation_data=(x_test,y_test),epochs=280,verbose=2,callbacks=EarlyStopping(monitor=\"val_loss\",mode=\"min\",patience=25))"
   ]
  },
  {
   "cell_type": "code",
   "execution_count": null,
   "id": "3c3ed627",
   "metadata": {},
   "outputs": [],
   "source": [
    "#lets look at the history\n",
    "model.history.history"
   ]
  },
  {
   "cell_type": "code",
   "execution_count": null,
   "id": "dc715efc",
   "metadata": {},
   "outputs": [],
   "source": [
    "#lets evaluate model\n",
    "model.evaluate(x_test,y_test)"
   ]
  },
  {
   "cell_type": "code",
   "execution_count": null,
   "id": "6992c206",
   "metadata": {},
   "outputs": [],
   "source": [
    "#Lets predict\n",
    "pred = model.predict(x_test)"
   ]
  },
  {
   "cell_type": "code",
   "execution_count": null,
   "id": "9a94d433",
   "metadata": {},
   "outputs": [],
   "source": [
    "def getResult(data):\n",
    "    \"\"\"\n",
    "    parameter: data = predicted data\n",
    "    return: list of prediction as 0's or 1's\n",
    "    \"\"\"\n",
    "    data = np.reshape(data,-1)\n",
    "    lst = []\n",
    "    for p in data:\n",
    "        if p < 0.5:\n",
    "            lst.append(0)\n",
    "        else:\n",
    "            lst.append(1)\n",
    "    return lst"
   ]
  },
  {
   "cell_type": "code",
   "execution_count": null,
   "id": "7cce0186",
   "metadata": {},
   "outputs": [],
   "source": [
    "pred=getResult(pred)"
   ]
  },
  {
   "cell_type": "code",
   "execution_count": null,
   "id": "caf7a821",
   "metadata": {},
   "outputs": [],
   "source": [
    "#Saving Tensorflow model\n",
    "model.save(\"spam_detector.h5\")"
   ]
  },
  {
   "cell_type": "code",
   "execution_count": null,
   "id": "283cef98",
   "metadata": {},
   "outputs": [],
   "source": [
    "from tensorflow.keras.models import load_model"
   ]
  },
  {
   "cell_type": "code",
   "execution_count": null,
   "id": "8dbd7311",
   "metadata": {
    "scrolled": true
   },
   "outputs": [],
   "source": [
    "m = load_model(\"spam_detector.h5\")"
   ]
  },
  {
   "cell_type": "code",
   "execution_count": null,
   "id": "0fb6c495",
   "metadata": {},
   "outputs": [],
   "source": []
  }
 ],
 "metadata": {
  "kernelspec": {
   "display_name": "Python 3 (ipykernel)",
   "language": "python",
   "name": "python3"
  },
  "language_info": {
   "codemirror_mode": {
    "name": "ipython",
    "version": 3
   },
   "file_extension": ".py",
   "mimetype": "text/x-python",
   "name": "python",
   "nbconvert_exporter": "python",
   "pygments_lexer": "ipython3",
   "version": "3.9.13"
  }
 },
 "nbformat": 4,
 "nbformat_minor": 5
}
